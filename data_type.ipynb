{
 "cells": [
  {
   "cell_type": "code",
   "execution_count": 11,
   "metadata": {},
   "outputs": [],
   "source": [
    "import pandas as pd\n",
    "import seaborn as sns\n",
    "df = sns.load_dataset('iris')"
   ]
  },
  {
   "cell_type": "markdown",
   "metadata": {},
   "source": [
    "## 타입"
   ]
  },
  {
   "cell_type": "markdown",
   "metadata": {},
   "source": [
    "출처 : http://pbpython.com/pandas_dtypes.html"
   ]
  },
  {
   "cell_type": "markdown",
   "metadata": {},
   "source": [
    "pandas는 기본 로딩 시 표와 같은 데이터 타입을 활용 // 최대값을 활용하기 때문에 비효율적 // 타입 변경이 필요"
   ]
  },
  {
   "cell_type": "markdown",
   "metadata": {},
   "source": [
    "### 1. Numeric Type"
   ]
  },
  {
   "cell_type": "markdown",
   "metadata": {},
   "source": [
    "#### int, float 데이터 타입의 경우, Numpy type으로 변경이 가능하다. ( 메모리 최적화 활용 )"
   ]
  },
  {
   "cell_type": "code",
   "execution_count": 34,
   "metadata": {},
   "outputs": [],
   "source": [
    "df['sepal_length'] = df['sepal_length'].astype('uint8')\n",
    "df['sepal_width'] = df['sepal_width'].astype('float16')\n",
    "\n",
    "# df['컬럼명'].astype('타입명')"
   ]
  },
  {
   "cell_type": "markdown",
   "metadata": {},
   "source": [
    "**to_numeric 활용**\n",
    "\n",
    "errors='coerce'를 선택하면 에러없이 그 값은 Nan으로 바뀐다.\n",
    "\n",
    "downcast는 4가지 중 선택하면 최소한의 데이터 타입으로 선택한다??"
   ]
  },
  {
   "cell_type": "code",
   "execution_count": 81,
   "metadata": {},
   "outputs": [],
   "source": [
    "# errors : {'ignore', 'raise', 'coerce'}\n",
    "# downcast : {'integer', 'signed', 'unsigned', 'float' }\n",
    "df['petal_length'] = pd.to_numeric(df['petal_length'], errors='coerce', downcast='integer')"
   ]
  },
  {
   "cell_type": "markdown",
   "metadata": {},
   "source": [
    "### 2. String Type"
   ]
  },
  {
   "cell_type": "markdown",
   "metadata": {},
   "source": [
    "참고 : https://pandas.pydata.org/pandas-docs/stable/user_guide/text.html"
   ]
  },
  {
   "cell_type": "markdown",
   "metadata": {},
   "source": [
    "기존에는 문자열을 numpy가 사용하는 object 타입으로 처리했다.\n",
    "\n",
    "1.0부터 string 타입이 새로 생겼다. 성능에는 아직 차이가 없다고 함"
   ]
  },
  {
   "cell_type": "code",
   "execution_count": 13,
   "metadata": {},
   "outputs": [],
   "source": [
    "df['species'] = df['species'].astype('string')"
   ]
  },
  {
   "cell_type": "code",
   "execution_count": 14,
   "metadata": {},
   "outputs": [
    {
     "data": {
      "text/plain": [
       "0         setosa\n",
       "1         setosa\n",
       "2         setosa\n",
       "3         setosa\n",
       "4         setosa\n",
       "         ...    \n",
       "145    virginica\n",
       "146    virginica\n",
       "147    virginica\n",
       "148    virginica\n",
       "149    virginica\n",
       "Name: species, Length: 150, dtype: string"
      ]
     },
     "execution_count": 14,
     "metadata": {},
     "output_type": "execute_result"
    }
   ],
   "source": [
    "df['species']"
   ]
  },
  {
   "cell_type": "markdown",
   "metadata": {},
   "source": [
    "### 3. Category : 지정된 값으로만 채워질 수 있는 타입 "
   ]
  },
  {
   "cell_type": "markdown",
   "metadata": {},
   "source": [
    "( 나머지는 NaN 처리 ) / 숫자, 문자 가능 / R에서 factor와 같음"
   ]
  },
  {
   "cell_type": "markdown",
   "metadata": {},
   "source": [
    "*object 타입을 category로 바꾸면 메모리 절약에 큰 효과가 있다.* 단, unique한 값이 50% 이상이면 역효과"
   ]
  },
  {
   "cell_type": "code",
   "execution_count": 17,
   "metadata": {},
   "outputs": [],
   "source": [
    "import pandas as pd\n",
    "import seaborn as sns\n",
    "df = sns.load_dataset('iris')"
   ]
  },
  {
   "cell_type": "code",
   "execution_count": 18,
   "metadata": {},
   "outputs": [],
   "source": [
    "df['species'] = df['species'].astype('category')"
   ]
  },
  {
   "cell_type": "code",
   "execution_count": 19,
   "metadata": {},
   "outputs": [
    {
     "data": {
      "text/plain": [
       "0         setosa\n",
       "1         setosa\n",
       "2         setosa\n",
       "3         setosa\n",
       "4         setosa\n",
       "         ...    \n",
       "145    virginica\n",
       "146    virginica\n",
       "147    virginica\n",
       "148    virginica\n",
       "149    virginica\n",
       "Name: species, Length: 150, dtype: category\n",
       "Categories (3, object): [setosa, versicolor, virginica]"
      ]
     },
     "execution_count": 19,
     "metadata": {},
     "output_type": "execute_result"
    }
   ],
   "source": [
    "df.species"
   ]
  },
  {
   "cell_type": "code",
   "execution_count": 23,
   "metadata": {},
   "outputs": [
    {
     "data": {
      "text/plain": [
       "[a, b, NaN, NaN, NaN]\n",
       "Categories (2, object): [a < b]"
      ]
     },
     "execution_count": 23,
     "metadata": {},
     "output_type": "execute_result"
    }
   ],
   "source": [
    "# 임의로 생성 예시\n",
    "## categories가 지정할 값, 나머지는 NaN 처리\n",
    "pd.Categorical(['a','b','c','d','e'], categories=['a','b'], ordered=True)"
   ]
  },
  {
   "cell_type": "markdown",
   "metadata": {},
   "source": [
    "#### .cat + 변수 또는 함수 활용"
   ]
  },
  {
   "cell_type": "markdown",
   "metadata": {},
   "source": [
    "참고 : https://pandas.pydata.org/pandas-docs/stable/reference/api/pandas.Series.cat.html"
   ]
  },
  {
   "cell_type": "code",
   "execution_count": 20,
   "metadata": {},
   "outputs": [
    {
     "data": {
      "text/plain": [
       "Index(['setosa', 'versicolor', 'virginica'], dtype='object')"
      ]
     },
     "execution_count": 20,
     "metadata": {},
     "output_type": "execute_result"
    }
   ],
   "source": [
    "df['species'].cat.categories"
   ]
  },
  {
   "cell_type": "markdown",
   "metadata": {},
   "source": [
    "### 4. Time Type "
   ]
  },
  {
   "cell_type": "markdown",
   "metadata": {},
   "source": [
    "date 타입이 object 타입으로 로드되는 경우가 있을 때, 활용할 수 있다."
   ]
  },
  {
   "cell_type": "code",
   "execution_count": 45,
   "metadata": {
    "execution": {
     "iopub.execute_input": "2020-08-25T15:44:08.019653Z",
     "iopub.status.busy": "2020-08-25T15:44:08.019388Z",
     "iopub.status.idle": "2020-08-25T15:44:08.023790Z",
     "shell.execute_reply": "2020-08-25T15:44:08.023063Z",
     "shell.execute_reply.started": "2020-08-25T15:44:08.019620Z"
    }
   },
   "outputs": [],
   "source": [
    "import pandas as pd\n",
    "\n",
    "date_df = pd.DataFrame(['2019-01-01 01:00:00','2019-02-03 05:00:00'], columns=['date'])"
   ]
  },
  {
   "cell_type": "code",
   "execution_count": 46,
   "metadata": {
    "execution": {
     "iopub.execute_input": "2020-08-25T15:44:08.231799Z",
     "iopub.status.busy": "2020-08-25T15:44:08.231429Z",
     "iopub.status.idle": "2020-08-25T15:44:08.242059Z",
     "shell.execute_reply": "2020-08-25T15:44:08.240471Z",
     "shell.execute_reply.started": "2020-08-25T15:44:08.231754Z"
    }
   },
   "outputs": [
    {
     "data": {
      "text/plain": [
       "date    object\n",
       "dtype: object"
      ]
     },
     "execution_count": 46,
     "metadata": {},
     "output_type": "execute_result"
    }
   ],
   "source": [
    "date_df.dtypes # object 확인"
   ]
  },
  {
   "cell_type": "markdown",
   "metadata": {},
   "source": [
    "format은 현재 데이터로 사용되는 형식을 입력한다. 성능 향상을 위해 반드시 입력하도록 한다."
   ]
  },
  {
   "cell_type": "code",
   "execution_count": 47,
   "metadata": {
    "execution": {
     "iopub.execute_input": "2020-08-25T15:44:08.748108Z",
     "iopub.status.busy": "2020-08-25T15:44:08.747360Z",
     "iopub.status.idle": "2020-08-25T15:44:08.761977Z",
     "shell.execute_reply": "2020-08-25T15:44:08.758711Z",
     "shell.execute_reply.started": "2020-08-25T15:44:08.748014Z"
    }
   },
   "outputs": [],
   "source": [
    "## 현재 YYYY-mm-dd 이므로 %Y-%m-%d ( 반드시 %가 들어간 형식으로 )\n",
    "date_df['date'] = pd.to_datetime(date_df['date'], format='%Y-%m-%d %H:%M:%S')"
   ]
  },
  {
   "cell_type": "markdown",
   "metadata": {},
   "source": [
    "date type은 index컬럼으로 변경하여 활용하면 유용"
   ]
  },
  {
   "cell_type": "markdown",
   "metadata": {},
   "source": [
    "특정 단위로 데이터 추출 가능"
   ]
  },
  {
   "cell_type": "code",
   "execution_count": 9,
   "metadata": {},
   "outputs": [
    {
     "data": {
      "text/plain": [
       "0    1\n",
       "1    1\n",
       "Name: date, dtype: int64"
      ]
     },
     "execution_count": 9,
     "metadata": {},
     "output_type": "execute_result"
    }
   ],
   "source": [
    "date_df['date'].dt.month"
   ]
  },
  {
   "cell_type": "markdown",
   "metadata": {},
   "source": [
    "#### TIMEZONE이 들어간 데이터"
   ]
  },
  {
   "cell_type": "markdown",
   "metadata": {
    "execution": {
     "iopub.execute_input": "2020-08-25T15:38:14.268700Z",
     "iopub.status.busy": "2020-08-25T15:38:14.268474Z",
     "iopub.status.idle": "2020-08-25T15:38:14.272915Z",
     "shell.execute_reply": "2020-08-25T15:38:14.271875Z",
     "shell.execute_reply.started": "2020-08-25T15:38:14.268671Z"
    }
   },
   "source": [
    "**.dt.tz_localize** 또는 **.dt.tz_convert**를 활용할 수 있다."
   ]
  },
  {
   "cell_type": "code",
   "execution_count": 70,
   "metadata": {
    "execution": {
     "iopub.execute_input": "2020-08-25T15:48:43.530106Z",
     "iopub.status.busy": "2020-08-25T15:48:43.529396Z",
     "iopub.status.idle": "2020-08-25T15:48:43.535718Z",
     "shell.execute_reply": "2020-08-25T15:48:43.535002Z",
     "shell.execute_reply.started": "2020-08-25T15:48:43.530014Z"
    }
   },
   "outputs": [],
   "source": [
    "import pandas as pd\n",
    "\n",
    "date_df = pd.DataFrame(['2020-01-01 01:00:00','2020-02-03 05:00:00'], columns=['date'])"
   ]
  },
  {
   "cell_type": "code",
   "execution_count": 54,
   "metadata": {
    "execution": {
     "iopub.execute_input": "2020-08-25T15:45:19.529160Z",
     "iopub.status.busy": "2020-08-25T15:45:19.528414Z",
     "iopub.status.idle": "2020-08-25T15:45:19.539833Z",
     "shell.execute_reply": "2020-08-25T15:45:19.538402Z",
     "shell.execute_reply.started": "2020-08-25T15:45:19.529069Z"
    }
   },
   "outputs": [],
   "source": [
    "# tz_localize는 현재 시간의 TIMEZONE을 기록하는 의미이다.\n",
    "## 현재 시간에 타임존을 명시하면 추후에 타임존을 변경할 수도 있다.\n",
    "date_df['date'] = pd.to_datetime(date_df['date'], format='%Y-%m-%d %H:%M') \\\n",
    "                  .dt.tz_localize(\"Asia/Seoul\")\n",
    "\n",
    "# UTC의 경우, utc 옵션으로 바로 설정가능하다.\n",
    "#date_df['date'] = pd.to_datetime(date_df['date'], format='%Y-%m-%d %H:%M', utc=True) "
   ]
  },
  {
   "cell_type": "code",
   "execution_count": 55,
   "metadata": {
    "execution": {
     "iopub.execute_input": "2020-08-25T15:45:19.848878Z",
     "iopub.status.busy": "2020-08-25T15:45:19.848643Z",
     "iopub.status.idle": "2020-08-25T15:45:19.854697Z",
     "shell.execute_reply": "2020-08-25T15:45:19.853753Z",
     "shell.execute_reply.started": "2020-08-25T15:45:19.848849Z"
    }
   },
   "outputs": [
    {
     "data": {
      "text/plain": [
       "0   2020-01-01 01:00:00+09:00\n",
       "1   2020-02-03 05:00:00+09:00\n",
       "Name: date, dtype: datetime64[ns, Asia/Seoul]"
      ]
     },
     "execution_count": 55,
     "metadata": {},
     "output_type": "execute_result"
    }
   ],
   "source": [
    "date_df['date']"
   ]
  },
  {
   "cell_type": "code",
   "execution_count": 56,
   "metadata": {
    "execution": {
     "iopub.execute_input": "2020-08-25T15:45:20.234556Z",
     "iopub.status.busy": "2020-08-25T15:45:20.233357Z",
     "iopub.status.idle": "2020-08-25T15:45:20.248520Z",
     "shell.execute_reply": "2020-08-25T15:45:20.246947Z",
     "shell.execute_reply.started": "2020-08-25T15:45:20.234398Z"
    }
   },
   "outputs": [
    {
     "data": {
      "text/plain": [
       "0   2019-12-31 16:00:00+00:00\n",
       "1   2020-02-02 20:00:00+00:00\n",
       "Name: date, dtype: datetime64[ns, UTC]"
      ]
     },
     "execution_count": 56,
     "metadata": {},
     "output_type": "execute_result"
    }
   ],
   "source": [
    "# tz_convert를 사용하여 UTC로 변경\n",
    "date_df['date'].dt.tz_convert(\"UTC\")"
   ]
  },
  {
   "cell_type": "markdown",
   "metadata": {},
   "source": [
    "데이터 자체에 TIMEZONE이 들어간 경우"
   ]
  },
  {
   "cell_type": "code",
   "execution_count": 63,
   "metadata": {
    "execution": {
     "iopub.execute_input": "2020-08-25T15:47:54.739853Z",
     "iopub.status.busy": "2020-08-25T15:47:54.739137Z",
     "iopub.status.idle": "2020-08-25T15:47:54.751943Z",
     "shell.execute_reply": "2020-08-25T15:47:54.748677Z",
     "shell.execute_reply.started": "2020-08-25T15:47:54.739736Z"
    }
   },
   "outputs": [],
   "source": [
    "import pandas as pd\n",
    "\n",
    "date_df = pd.DataFrame(['2020-01-01 01:00:00 UTC','2020-02-03 05:00:00 UTC'], columns=['date'])"
   ]
  },
  {
   "cell_type": "code",
   "execution_count": 61,
   "metadata": {
    "execution": {
     "iopub.execute_input": "2020-08-25T15:47:30.828184Z",
     "iopub.status.busy": "2020-08-25T15:47:30.827415Z",
     "iopub.status.idle": "2020-08-25T15:47:31.138807Z",
     "shell.execute_reply": "2020-08-25T15:47:31.137875Z",
     "shell.execute_reply.started": "2020-08-25T15:47:30.828080Z"
    }
   },
   "outputs": [],
   "source": [
    "# %Z 가 TIMEZONE을 의미한다.\n",
    "date_df['date'] = pd.to_datetime(date_df['date'], format='%Y-%m-%d %H:%M:%S %Z')"
   ]
  },
  {
   "cell_type": "code",
   "execution_count": 62,
   "metadata": {
    "execution": {
     "iopub.execute_input": "2020-08-25T15:47:35.224645Z",
     "iopub.status.busy": "2020-08-25T15:47:35.224312Z",
     "iopub.status.idle": "2020-08-25T15:47:35.231335Z",
     "shell.execute_reply": "2020-08-25T15:47:35.230514Z",
     "shell.execute_reply.started": "2020-08-25T15:47:35.224604Z"
    }
   },
   "outputs": [
    {
     "data": {
      "text/plain": [
       "0   2020-01-01 01:00:00+00:00\n",
       "1   2020-02-03 05:00:00+00:00\n",
       "Name: date, dtype: datetime64[ns, UTC]"
      ]
     },
     "execution_count": 62,
     "metadata": {},
     "output_type": "execute_result"
    }
   ],
   "source": [
    "date_df['date']"
   ]
  }
 ],
 "metadata": {
  "kernelspec": {
   "display_name": "Python 3",
   "language": "python",
   "name": "python3"
  },
  "language_info": {
   "codemirror_mode": {
    "name": "ipython",
    "version": 3
   },
   "file_extension": ".py",
   "mimetype": "text/x-python",
   "name": "python",
   "nbconvert_exporter": "python",
   "pygments_lexer": "ipython3",
   "version": "3.7.8"
  }
 },
 "nbformat": 4,
 "nbformat_minor": 4
}
