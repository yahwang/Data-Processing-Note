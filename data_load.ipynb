{
 "cells": [
  {
   "cell_type": "markdown",
   "metadata": {},
   "source": [
    "- 기본 로딩\n",
    "- pyarrow 활용한 로딩\n",
    "- python data(list, dict) 로딩"
   ]
  },
  {
   "cell_type": "markdown",
   "metadata": {},
   "source": [
    "## 1. 기본 로딩"
   ]
  },
  {
   "cell_type": "code",
   "execution_count": 1,
   "metadata": {},
   "outputs": [],
   "source": [
    "import pandas as pd\n",
    "\n",
    "df = pd.read_csv('data.csv')"
   ]
  },
  {
   "cell_type": "markdown",
   "metadata": {},
   "source": [
    "### 폴더에 있는 모든 파일 로딩"
   ]
  },
  {
   "cell_type": "markdown",
   "metadata": {},
   "source": [
    "glob과 functools.partial을 활용한다.\n",
    "\n",
    "partial은 추가 args를 받을 수 있어서 활용한다."
   ]
  },
  {
   "cell_type": "code",
   "execution_count": 5,
   "metadata": {},
   "outputs": [],
   "source": [
    "import pandas as pd\n",
    "import glob\n",
    "\n",
    "pdf = pd.concat([pd.read_csv(f) for f in glob.glob(\"data/*.csv\")])"
   ]
  },
  {
   "cell_type": "markdown",
   "metadata": {},
   "source": [
    "## 2. pyarrow를 활용하여 빠르게 로딩"
   ]
  },
  {
   "cell_type": "markdown",
   "metadata": {},
   "source": [
    "https://yahwang.github.io/posts/83"
   ]
  },
  {
   "cell_type": "code",
   "execution_count": null,
   "metadata": {},
   "outputs": [],
   "source": [
    "# pip install pyarrow\n",
    "from pyarrow import csv\n",
    "\n",
    "df_from_pyarrow = csv.read_csv('data.csv').to_pandas()"
   ]
  },
  {
   "cell_type": "markdown",
   "metadata": {},
   "source": [
    "타입을 지정하여 로딩"
   ]
  },
  {
   "cell_type": "code",
   "execution_count": null,
   "metadata": {},
   "outputs": [],
   "source": [
    "convert_opts = csv.ConvertOptions(\n",
    "    column_types={\n",
    "        \"COLLECT_DATE\": pa.string(),\n",
    "        \"AP_MAC\": pa.string(),\n",
    "        \"AGE_GROUP\": pa.int8(),\n",
    "        \"GENDER\": pa.string(),\n",
    "    }\n",
    ")\n",
    "\n",
    "df = csv.read_csv( \"./data/data.csv\", convert_options=convert_opts ).to_pandas()"
   ]
  },
  {
   "cell_type": "markdown",
   "metadata": {},
   "source": [
    "### 폴더에 있는 모든 파일 로딩"
   ]
  },
  {
   "cell_type": "code",
   "execution_count": null,
   "metadata": {},
   "outputs": [],
   "source": [
    "import pandas as pd\n",
    "from pyarrow import csv\n",
    "\n",
    "import glob\n",
    "\n",
    "pdf = pd.concat([csv.read_csv(f).to_pandas() for f in glob.glob(\"data/*.csv\")])"
   ]
  },
  {
   "cell_type": "markdown",
   "metadata": {},
   "source": [
    "## 3. Python data를 데이터프레임으로 로딩"
   ]
  },
  {
   "cell_type": "markdown",
   "metadata": {},
   "source": [
    "![](https://pbpython.com/images/pandas-dataframe-shadow.png)"
   ]
  },
  {
   "cell_type": "markdown",
   "metadata": {},
   "source": [
    "## 4. Option을 활용한 로딩"
   ]
  },
  {
   "cell_type": "markdown",
   "metadata": {},
   "source": [
    "- dtypes : 컬럼의 타입을 지정\n",
    "- parse_dates : datetime 타입으로 지정할 컬럼명\n",
    "- date_parser : datetime 포맷을 지정 ( 지정하지 않으면 infer )\n",
    "- usecols : 불러올 컬럼만 지정"
   ]
  },
  {
   "cell_type": "code",
   "execution_count": null,
   "metadata": {},
   "outputs": [],
   "source": [
    "df = pd.read_csv('data.csv', dtypes=data_types)"
   ]
  },
  {
   "cell_type": "code",
   "execution_count": 1,
   "metadata": {
    "execution": {
     "iopub.execute_input": "2020-08-25T15:59:08.299833Z",
     "iopub.status.busy": "2020-08-25T15:59:08.298964Z",
     "iopub.status.idle": "2020-08-25T15:59:08.477384Z",
     "shell.execute_reply": "2020-08-25T15:59:08.476720Z",
     "shell.execute_reply.started": "2020-08-25T15:59:08.299740Z"
    }
   },
   "outputs": [],
   "source": [
    "import numpy as np"
   ]
  },
  {
   "cell_type": "code",
   "execution_count": null,
   "metadata": {},
   "outputs": [],
   "source": [
    "data_types={'col1':pd.Int8Dtype(), 'col2':np.float32, 'col3': pd.StringDtype(),\n",
    "           'col4': pd.CategoricalDtype([\"M\", \"F\"])}b\n",
    "\n",
    "df = pd.read_csv(\n",
    "    \"./data/log_data.csv\",\n",
    "    usecols=[\n",
    "        \"latitude\",\n",
    "        \"longitude\",\n",
    "        \"name\"\n",
    "    ],\n",
    "    parse_dates=[\"register_at\"],\n",
    "    date_parser=lambda col: pd.to_datetime(\n",
    "        col, format=\"%Y-%m-%d %H:%M:%S\").tz_localize(\"Asia/Seoul\"),\n",
    "    dtypes=data_types\n",
    ")"
   ]
  },
  {
   "cell_type": "markdown",
   "metadata": {},
   "source": [
    "참고 : Nullable integer data type\n",
    "\n",
    "Integer 타입으로 지정할 컬럼에 이미 NaN값이 존재하는 경우, np.int8 또는 'int8'로 지정하면 오류가 나온다.\n",
    "\n",
    "Pandas에서는 이런 데이터들을 지정하기 위해 extension type 형태를 지정했다.\n",
    "\n",
    "https://pandas.pydata.org/pandas-docs/stable/user_guide/integer_na.html"
   ]
  },
  {
   "cell_type": "code",
   "execution_count": 11,
   "metadata": {
    "execution": {
     "iopub.execute_input": "2020-08-25T16:07:37.976451Z",
     "iopub.status.busy": "2020-08-25T16:07:37.976199Z",
     "iopub.status.idle": "2020-08-25T16:07:37.980602Z",
     "shell.execute_reply": "2020-08-25T16:07:37.979772Z",
     "shell.execute_reply.started": "2020-08-25T16:07:37.976419Z"
    }
   },
   "outputs": [],
   "source": [
    "import pandas as pd\n",
    "\n",
    "# ERROR\n",
    "# arr = pd.array([1, 2, pd.NA], dtype='int8')\n",
    "\n",
    "arr = pd.array([1, 2, pd.NA], dtype=pd.Int8Dtype())"
   ]
  }
 ],
 "metadata": {
  "kernelspec": {
   "display_name": "Python 3",
   "language": "python",
   "name": "python3"
  },
  "language_info": {
   "codemirror_mode": {
    "name": "ipython",
    "version": 3
   },
   "file_extension": ".py",
   "mimetype": "text/x-python",
   "name": "python",
   "nbconvert_exporter": "python",
   "pygments_lexer": "ipython3",
   "version": "3.7.8"
  },
  "nteract": {
   "version": "nteract-on-jupyter@2.1.3"
  }
 },
 "nbformat": 4,
 "nbformat_minor": 4
}
