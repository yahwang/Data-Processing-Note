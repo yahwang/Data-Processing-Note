{
 "cells": [
  {
   "cell_type": "markdown",
   "metadata": {},
   "source": [
    "참고 : https://jakevdp.github.io/PythonDataScienceHandbook/03.11-working-with-time-series.html"
   ]
  },
  {
   "cell_type": "code",
   "execution_count": 10,
   "metadata": {},
   "outputs": [],
   "source": [
    "from datetime import datetime, date, time, timedelta\n",
    "import pandas as pd"
   ]
  },
  {
   "cell_type": "markdown",
   "metadata": {},
   "source": [
    "### datetime, date, time"
   ]
  },
  {
   "cell_type": "code",
   "execution_count": 2,
   "metadata": {},
   "outputs": [
    {
     "name": "stdout",
     "output_type": "stream",
     "text": [
      "2018-11-17 20:22:35.307563\n",
      "2018-11-19 17:30:40\n",
      "2018-11-19\n"
     ]
    }
   ],
   "source": [
    "# 현재 시간\n",
    "print( datetime.now() ) # datetime.today()\n",
    "# 연, 월, 일, 시, 분, 초로 생성\n",
    "t1 = datetime(2018,11,19,17,30,40)\n",
    "print(t1)\n",
    "# 연, 월, 일로 생성\n",
    "t2 = date(2018,11,19)\n",
    "print(t2)"
   ]
  },
  {
   "cell_type": "code",
   "execution_count": 3,
   "metadata": {},
   "outputs": [
    {
     "name": "stdout",
     "output_type": "stream",
     "text": [
      "2018 11 17\n"
     ]
    },
    {
     "data": {
      "text/plain": [
       "5"
      ]
     },
     "execution_count": 3,
     "metadata": {},
     "output_type": "execute_result"
    }
   ],
   "source": [
    "now = datetime.now()\n",
    "print( now.year, now.month, now.day ) # hour, minute, second 등 가능\n",
    "datetime.now().weekday() # { 0:월, 1:화, 2:수, 3:목, 4:금, 5:토, 6:일 }"
   ]
  },
  {
   "cell_type": "markdown",
   "metadata": {},
   "source": [
    "#### - strftime & strptime"
   ]
  },
  {
   "cell_type": "code",
   "execution_count": 4,
   "metadata": {},
   "outputs": [
    {
     "name": "stdout",
     "output_type": "stream",
     "text": [
      "2018/11/17 Nov:22\n",
      "2018-11-01 17:00:00\n"
     ]
    }
   ],
   "source": [
    "# strftime : datetime을 문자열로\n",
    "print( now.strftime('%Y/%m/%d %h:%M') )\n",
    "# strptime : 문자열을 datetime으로\n",
    "print( datetime.strptime('2018-11-01 17:00', '%Y-%m-%d %H:%M') )"
   ]
  },
  {
   "cell_type": "markdown",
   "metadata": {},
   "source": [
    "#### - replace\n",
    "    year, month, day, hour, minute, ..."
   ]
  },
  {
   "cell_type": "code",
   "execution_count": 19,
   "metadata": {},
   "outputs": [
    {
     "data": {
      "text/plain": [
       "datetime.datetime(2015, 7, 3, 3, 30)"
      ]
     },
     "execution_count": 19,
     "metadata": {},
     "output_type": "execute_result"
    }
   ],
   "source": [
    "day1 = datetime(2015,7,3,1,10,0)\n",
    "day1.replace(hour=3, minute=30) # 1시 10분을 3시 30분으로 변경"
   ]
  },
  {
   "cell_type": "markdown",
   "metadata": {},
   "source": [
    "### timedelta - 날짜 개념을 단위로 파악 ( 날짜 계산에 유용 )\n",
    "    timedelta(days=0, seconds=0, microseconds=0, milliseconds=0, minutes=0, hours=0, weeks=0)"
   ]
  },
  {
   "cell_type": "code",
   "execution_count": 63,
   "metadata": {},
   "outputs": [
    {
     "name": "stdout",
     "output_type": "stream",
     "text": [
      "3 days, 4:00:00\n",
      "<class 'datetime.timedelta'>\n",
      "3\n"
     ]
    }
   ],
   "source": [
    "# 날짜 차이 계산\n",
    "res = datetime(2018,11,13,19) - datetime(2018,11,10,15)\n",
    "print(res)\n",
    "print(type(res)) \n",
    "print( res.days ) # 특정 일 수만"
   ]
  },
  {
   "cell_type": "code",
   "execution_count": 9,
   "metadata": {},
   "outputs": [
    {
     "data": {
      "text/plain": [
       "datetime.date(2018, 11, 12)"
      ]
     },
     "execution_count": 9,
     "metadata": {},
     "output_type": "execute_result"
    }
   ],
   "source": [
    "# 일 수 계산\n",
    "date.today() - timedelta(days=5)"
   ]
  },
  {
   "cell_type": "markdown",
   "metadata": {},
   "source": [
    "### pd.date_range - 설정 단위대로 날짜 추출\n",
    "    pd.date_range(start=None, end=None, periods=None, freq=None, ... )"
   ]
  },
  {
   "cell_type": "markdown",
   "metadata": {},
   "source": [
    "#### freq : 'D' - 달력일(default), 'B' - 평일, 'H' - 시간, 'T' - 분 ,'S' - 초 , ..."
   ]
  },
  {
   "cell_type": "code",
   "execution_count": 16,
   "metadata": {},
   "outputs": [
    {
     "data": {
      "text/plain": [
       "DatetimeIndex(['2018-11-01', '2018-11-02', '2018-11-03', '2018-11-04',\n",
       "               '2018-11-05', '2018-11-06', '2018-11-07', '2018-11-08',\n",
       "               '2018-11-09', '2018-11-10'],\n",
       "              dtype='datetime64[ns]', freq='D')"
      ]
     },
     "execution_count": 16,
     "metadata": {},
     "output_type": "execute_result"
    }
   ],
   "source": [
    "pd.date_range(start='2018-11-01', end='2018-11-10') # default는 일 수"
   ]
  },
  {
   "cell_type": "code",
   "execution_count": 14,
   "metadata": {},
   "outputs": [
    {
     "data": {
      "text/plain": [
       "DatetimeIndex(['2018-11-15', '2018-11-16', '2018-11-17', '2018-11-18',\n",
       "               '2018-11-19', '2018-11-20', '2018-11-21', '2018-11-22',\n",
       "               '2018-11-23', '2018-11-24'],\n",
       "              dtype='datetime64[ns]', freq='D')"
      ]
     },
     "execution_count": 14,
     "metadata": {},
     "output_type": "execute_result"
    }
   ],
   "source": [
    "pd.date_range('2018-11-15', periods=10) # periods : 추출 개수를 의미"
   ]
  },
  {
   "cell_type": "code",
   "execution_count": 20,
   "metadata": {},
   "outputs": [
    {
     "data": {
      "text/plain": [
       "DatetimeIndex(['2018-11-15 00:00:00', '2018-11-15 00:30:00',\n",
       "               '2018-11-15 01:00:00', '2018-11-15 01:30:00',\n",
       "               '2018-11-15 02:00:00', '2018-11-15 02:30:00',\n",
       "               '2018-11-15 03:00:00', '2018-11-15 03:30:00',\n",
       "               '2018-11-15 04:00:00', '2018-11-15 04:30:00'],\n",
       "              dtype='datetime64[ns]', freq='30T')"
      ]
     },
     "execution_count": 20,
     "metadata": {},
     "output_type": "execute_result"
    }
   ],
   "source": [
    "pd.date_range('2018-11-15 00:00:00', periods=10, freq='30T') # 30분 단위"
   ]
  },
  {
   "cell_type": "markdown",
   "metadata": {},
   "source": [
    "## pd.Series.first(last) _ valid _ index"
   ]
  },
  {
   "cell_type": "markdown",
   "metadata": {},
   "source": [
    "#### 각 컬럼별로 데이터가 존재할 수 있는 기간이 존재한다. + Shift 함수와 활용 가능 (데이터 프레임 활용 참고)\n",
    "#### 데이터 프레임에서 shift 함수와 활용하면 시작 점을 고정하고 컬럼 간의 데이터를 비교하는 데 효과적이다."
   ]
  },
  {
   "cell_type": "code",
   "execution_count": 101,
   "metadata": {},
   "outputs": [
    {
     "data": {
      "text/html": [
       "<div>\n",
       "<style scoped>\n",
       "    .dataframe tbody tr th:only-of-type {\n",
       "        vertical-align: middle;\n",
       "    }\n",
       "\n",
       "    .dataframe tbody tr th {\n",
       "        vertical-align: top;\n",
       "    }\n",
       "\n",
       "    .dataframe thead th {\n",
       "        text-align: right;\n",
       "    }\n",
       "</style>\n",
       "<table border=\"1\" class=\"dataframe\">\n",
       "  <thead>\n",
       "    <tr style=\"text-align: right;\">\n",
       "      <th></th>\n",
       "      <th>col1</th>\n",
       "      <th>col2</th>\n",
       "    </tr>\n",
       "    <tr>\n",
       "      <th>date</th>\n",
       "      <th></th>\n",
       "      <th></th>\n",
       "    </tr>\n",
       "  </thead>\n",
       "  <tbody>\n",
       "    <tr>\n",
       "      <th>2018-11-10</th>\n",
       "      <td>NaN</td>\n",
       "      <td>NaN</td>\n",
       "    </tr>\n",
       "    <tr>\n",
       "      <th>2018-11-11</th>\n",
       "      <td>NaN</td>\n",
       "      <td>NaN</td>\n",
       "    </tr>\n",
       "    <tr>\n",
       "      <th>2018-11-12</th>\n",
       "      <td>10.0</td>\n",
       "      <td>NaN</td>\n",
       "    </tr>\n",
       "    <tr>\n",
       "      <th>2018-11-13</th>\n",
       "      <td>20.0</td>\n",
       "      <td>NaN</td>\n",
       "    </tr>\n",
       "    <tr>\n",
       "      <th>2018-11-14</th>\n",
       "      <td>30.0</td>\n",
       "      <td>NaN</td>\n",
       "    </tr>\n",
       "    <tr>\n",
       "      <th>2018-11-15</th>\n",
       "      <td>15.0</td>\n",
       "      <td>50.0</td>\n",
       "    </tr>\n",
       "    <tr>\n",
       "      <th>2018-11-16</th>\n",
       "      <td>8.0</td>\n",
       "      <td>30.0</td>\n",
       "    </tr>\n",
       "    <tr>\n",
       "      <th>2018-11-17</th>\n",
       "      <td>40.0</td>\n",
       "      <td>20.0</td>\n",
       "    </tr>\n",
       "    <tr>\n",
       "      <th>2018-11-18</th>\n",
       "      <td>3.0</td>\n",
       "      <td>10.0</td>\n",
       "    </tr>\n",
       "    <tr>\n",
       "      <th>2018-11-19</th>\n",
       "      <td>22.0</td>\n",
       "      <td>NaN</td>\n",
       "    </tr>\n",
       "    <tr>\n",
       "      <th>2018-11-20</th>\n",
       "      <td>NaN</td>\n",
       "      <td>NaN</td>\n",
       "    </tr>\n",
       "  </tbody>\n",
       "</table>\n",
       "</div>"
      ],
      "text/plain": [
       "            col1  col2\n",
       "date                  \n",
       "2018-11-10   NaN   NaN\n",
       "2018-11-11   NaN   NaN\n",
       "2018-11-12  10.0   NaN\n",
       "2018-11-13  20.0   NaN\n",
       "2018-11-14  30.0   NaN\n",
       "2018-11-15  15.0  50.0\n",
       "2018-11-16   8.0  30.0\n",
       "2018-11-17  40.0  20.0\n",
       "2018-11-18   3.0  10.0\n",
       "2018-11-19  22.0   NaN\n",
       "2018-11-20   NaN   NaN"
      ]
     },
     "execution_count": 101,
     "metadata": {},
     "output_type": "execute_result"
    }
   ],
   "source": [
    "date_df = pd.DataFrame({'date': pd.date_range(start='2018-11-10', end='2018-11-20'),'col1':[None]*2+[10,20,30,15,8,40,3,22]+[None], 'col2':[None]*5+[50,30,20,10]+[None]*2})\n",
    "date_df.set_index('date', inplace=True)\n",
    "date_df"
   ]
  },
  {
   "cell_type": "markdown",
   "metadata": {},
   "source": [
    "Series의 함수를 통해 첫번째와 마지막으로 값이 존재하는 날을 파악할 수 있다."
   ]
  },
  {
   "cell_type": "code",
   "execution_count": 102,
   "metadata": {},
   "outputs": [
    {
     "name": "stdout",
     "output_type": "stream",
     "text": [
      "first :  2018-11-12 00:00:00 last :  2018-11-19 00:00:00\n",
      "first :  2018-11-15 00:00:00 last :  2018-11-18 00:00:00\n"
     ]
    }
   ],
   "source": [
    "print('first : ', date_df.col1.first_valid_index(), 'last : ', date_df.col1.last_valid_index())\n",
    "print('first : ', date_df.col2.first_valid_index(), 'last : ', date_df.col2.last_valid_index())"
   ]
  },
  {
   "cell_type": "code",
   "execution_count": 103,
   "metadata": {},
   "outputs": [
    {
     "data": {
      "text/plain": [
       "col1   2018-11-12\n",
       "col2   2018-11-15\n",
       "dtype: datetime64[ns]"
      ]
     },
     "execution_count": 103,
     "metadata": {},
     "output_type": "execute_result"
    }
   ],
   "source": [
    "first_valid = date_df.apply(pd.Series.first_valid_index)\n",
    "first_valid"
   ]
  },
  {
   "cell_type": "code",
   "execution_count": null,
   "metadata": {},
   "outputs": [],
   "source": []
  }
 ],
 "metadata": {
  "kernelspec": {
   "display_name": "Python 3",
   "language": "python",
   "name": "python3"
  },
  "language_info": {
   "codemirror_mode": {
    "name": "ipython",
    "version": 3
   },
   "file_extension": ".py",
   "mimetype": "text/x-python",
   "name": "python",
   "nbconvert_exporter": "python",
   "pygments_lexer": "ipython3",
   "version": "3.7.6"
  }
 },
 "nbformat": 4,
 "nbformat_minor": 4
}
